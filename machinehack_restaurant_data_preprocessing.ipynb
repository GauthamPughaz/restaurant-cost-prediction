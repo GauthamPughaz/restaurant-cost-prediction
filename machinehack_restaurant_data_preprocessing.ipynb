{
 "cells": [
  {
   "cell_type": "code",
   "execution_count": 1,
   "metadata": {
    "colab": {
     "base_uri": "https://localhost:8080/",
     "height": 187
    },
    "colab_type": "code",
    "id": "0Wo7dCkiV4eF",
    "outputId": "6b36ee97-28c8-46f9-e00d-dfc550257b04"
   },
   "outputs": [],
   "source": [
    "import pandas as pd\n",
    "import numpy as np\n",
    "import io\n",
    "import category_encoders as ce\n"
   ]
  },
  {
   "cell_type": "markdown",
   "metadata": {
    "colab_type": "text",
    "id": "Q5IBNaddPop5"
   },
   "source": [
    "Reading data from the uploaded file."
   ]
  },
  {
   "cell_type": "code",
   "execution_count": 2,
   "metadata": {
    "colab": {},
    "colab_type": "code",
    "id": "R-eufgB1X1eF"
   },
   "outputs": [],
   "source": [
    "def read_data(file_name):\n",
    "  \n",
    "  df = pd.read_csv(file_name)\n",
    "  return df"
   ]
  },
  {
   "cell_type": "markdown",
   "metadata": {
    "colab_type": "text",
    "id": "ZIaDMiJAPfGl"
   },
   "source": [
    "Cleaning up the columns in the data."
   ]
  },
  {
   "cell_type": "code",
   "execution_count": 3,
   "metadata": {
    "colab": {},
    "colab_type": "code",
    "id": "lGXALLu1Yg6N"
   },
   "outputs": [],
   "source": [
    "def clean_data(df):\n",
    "\n",
    "    drop_cols = [\"RESTAURANT_ID\", \"LOCALITY\", \"TIME\"]\n",
    "    df = df.drop(drop_cols, axis=1)\n",
    "\n",
    "    print(\"Dropped the columns {}\\n\".format(str(drop_cols)))\n",
    "\n",
    "\n",
    "    for col in df.columns.tolist():\n",
    "        print(\"Column: {0}, Unique values: {1}\".format(col, len(df[col].value_counts())))\n",
    "\n",
    "    df[\"VOTES\"] = df[\"VOTES\"].fillna(\"0\")\n",
    "    df[\"VOTES\"] = df[\"VOTES\"].map(lambda x: x.rstrip(\" votes\")).astype(\"int\")\n",
    "    df[\"VOTES\"] -= df[\"VOTES\"].mean()\n",
    "    df[\"VOTES\"] = df[\"VOTES\"] / ((df[\"VOTES\"]**2).sum() / df.shape[0])\n",
    "\n",
    "    print(\"\\nProcessed column VOTES by removing the unwanted characters and converting it to int type\\n\")\n",
    "    \n",
    "    df[\"RATING\"] = df[\"RATING\"].str.replace(\"NEW\", \"0\").str.replace(\"-\", \"0\")\n",
    "    df[\"RATING\"] = df[\"RATING\"].fillna(\"0\")\n",
    "    df[\"RATING\"] = df[\"RATING\"].astype(\"float\")\n",
    "    df[\"RATING\"] /= 5.0\n",
    "    print(\"Processed column RATING by replacing NA values and casting them to int type.\\n\")\n",
    "\n",
    "    encoder = ce.BinaryEncoder(cols=[\"TITLE\", \"CUISINES\", \"CITY\"])\n",
    "    df = encoder.fit_transform(df)\n",
    "    print(\"Processed columns TITLE, CUISINES, CITY by converting them from categorical to numerical values with binary encoding.\\n\")\n",
    "  \n",
    "    print(\"Dropping the zero columns\")\n",
    "    df = df.drop([\"TITLE_0\", \"CUISINES_0\", \"CITY_0\"], axis=1)\n",
    "    return df\n"
   ]
  },
  {
   "cell_type": "markdown",
   "metadata": {
    "colab_type": "text",
    "id": "l5GxRrhPRMle"
   },
   "source": [
    "Cleaning the training data."
   ]
  },
  {
   "cell_type": "code",
   "execution_count": 9,
   "metadata": {
    "colab": {
     "base_uri": "https://localhost:8080/",
     "height": 204
    },
    "colab_type": "code",
    "id": "IFMJ1OnpBeDK",
    "outputId": "4f05c4e4-a137-457c-c855-02e7af9b41bf"
   },
   "outputs": [
    {
     "name": "stdout",
     "output_type": "stream",
     "text": [
      "<class 'pandas.core.frame.DataFrame'>\n",
      "RangeIndex: 12690 entries, 0 to 12689\n",
      "Data columns (total 9 columns):\n",
      "TITLE            12690 non-null object\n",
      "RESTAURANT_ID    12690 non-null int64\n",
      "CUISINES         12690 non-null object\n",
      "TIME             12690 non-null object\n",
      "CITY             12578 non-null object\n",
      "LOCALITY         12592 non-null object\n",
      "RATING           12688 non-null object\n",
      "VOTES            11486 non-null object\n",
      "COST             12690 non-null int64\n",
      "dtypes: int64(2), object(7)\n",
      "memory usage: 892.3+ KB\n"
     ]
    }
   ],
   "source": [
    "df_train = read_data(\"./dataset/Data_Train.csv\")\n",
    "df_train.info()"
   ]
  },
  {
   "cell_type": "markdown",
   "metadata": {
    "colab_type": "text",
    "id": "Cz9dwnU7RYaD"
   },
   "source": [
    "Cleaning and downloading the testing data."
   ]
  },
  {
   "cell_type": "code",
   "execution_count": 10,
   "metadata": {
    "colab": {
     "base_uri": "https://localhost:8080/",
     "height": 204
    },
    "colab_type": "code",
    "id": "WXqwWRziUhjF",
    "outputId": "4bae550e-cb33-45cc-df40-70b0e8db8360"
   },
   "outputs": [
    {
     "name": "stdout",
     "output_type": "stream",
     "text": [
      "<class 'pandas.core.frame.DataFrame'>\n",
      "RangeIndex: 4231 entries, 0 to 4230\n",
      "Data columns (total 8 columns):\n",
      "TITLE            4231 non-null object\n",
      "RESTAURANT_ID    4231 non-null int64\n",
      "CUISINES         4231 non-null object\n",
      "TIME             4231 non-null object\n",
      "CITY             4196 non-null object\n",
      "LOCALITY         4201 non-null object\n",
      "RATING           4229 non-null object\n",
      "VOTES            3829 non-null object\n",
      "dtypes: int64(1), object(7)\n",
      "memory usage: 264.5+ KB\n"
     ]
    }
   ],
   "source": [
    "df_test = read_data(\"./dataset/Data_Test.csv\")\n",
    "df_test.info()"
   ]
  },
  {
   "cell_type": "code",
   "execution_count": 6,
   "metadata": {},
   "outputs": [
    {
     "name": "stdout",
     "output_type": "stream",
     "text": [
      "<class 'pandas.core.frame.DataFrame'>\n",
      "RangeIndex: 16921 entries, 0 to 16920\n",
      "Data columns (total 9 columns):\n",
      "TITLE            16921 non-null object\n",
      "RESTAURANT_ID    16921 non-null int64\n",
      "CUISINES         16921 non-null object\n",
      "TIME             16921 non-null object\n",
      "CITY             16774 non-null object\n",
      "LOCALITY         16793 non-null object\n",
      "RATING           16917 non-null object\n",
      "VOTES            15315 non-null object\n",
      "COST             12690 non-null float64\n",
      "dtypes: float64(1), int64(1), object(7)\n",
      "memory usage: 1.2+ MB\n"
     ]
    }
   ],
   "source": [
    "df = df_train.append(df_test, ignore_index=True, sort=False)\n",
    "df.info()"
   ]
  },
  {
   "cell_type": "code",
   "execution_count": 7,
   "metadata": {
    "colab": {
     "base_uri": "https://localhost:8080/",
     "height": 505
    },
    "colab_type": "code",
    "id": "p517YmEnRXNZ",
    "outputId": "6fb25c0e-b62c-4805-d8dc-90673170a4ce"
   },
   "outputs": [
    {
     "name": "stdout",
     "output_type": "stream",
     "text": [
      "Dropped the columns ['RESTAURANT_ID', 'LOCALITY', 'TIME']\n",
      "\n",
      "Column: TITLE, Unique values: 123\n",
      "Column: CUISINES, Unique values: 5183\n",
      "Column: CITY, Unique values: 450\n",
      "Column: RATING, Unique values: 32\n",
      "Column: VOTES, Unique values: 2075\n",
      "Column: COST, Unique values: 86\n",
      "\n",
      "Processed column VOTES by removing the unwanted characters and converting it to int type\n",
      "\n",
      "Processed column RATING by replacing NA values and casting them to int type.\n",
      "\n",
      "Processed columns TITLE, CUISINES, CITY by converting them from categorical to numerical values with binary encoding.\n",
      "\n",
      "Dropping the zero columns\n",
      "Cleaned data:\n",
      "\n",
      "<class 'pandas.core.frame.DataFrame'>\n",
      "RangeIndex: 16921 entries, 0 to 16920\n",
      "Data columns (total 32 columns):\n",
      "TITLE_1        16921 non-null int64\n",
      "TITLE_2        16921 non-null int64\n",
      "TITLE_3        16921 non-null int64\n",
      "TITLE_4        16921 non-null int64\n",
      "TITLE_5        16921 non-null int64\n",
      "TITLE_6        16921 non-null int64\n",
      "TITLE_7        16921 non-null int64\n",
      "CUISINES_1     16921 non-null int64\n",
      "CUISINES_2     16921 non-null int64\n",
      "CUISINES_3     16921 non-null int64\n",
      "CUISINES_4     16921 non-null int64\n",
      "CUISINES_5     16921 non-null int64\n",
      "CUISINES_6     16921 non-null int64\n",
      "CUISINES_7     16921 non-null int64\n",
      "CUISINES_8     16921 non-null int64\n",
      "CUISINES_9     16921 non-null int64\n",
      "CUISINES_10    16921 non-null int64\n",
      "CUISINES_11    16921 non-null int64\n",
      "CUISINES_12    16921 non-null int64\n",
      "CUISINES_13    16921 non-null int64\n",
      "CITY_1         16921 non-null int64\n",
      "CITY_2         16921 non-null int64\n",
      "CITY_3         16921 non-null int64\n",
      "CITY_4         16921 non-null int64\n",
      "CITY_5         16921 non-null int64\n",
      "CITY_6         16921 non-null int64\n",
      "CITY_7         16921 non-null int64\n",
      "CITY_8         16921 non-null int64\n",
      "CITY_9         16921 non-null int64\n",
      "RATING         16921 non-null float64\n",
      "VOTES          16921 non-null float64\n",
      "COST           12690 non-null float64\n",
      "dtypes: float64(3), int64(29)\n",
      "memory usage: 4.1 MB\n"
     ]
    }
   ],
   "source": [
    "df_cleaned = clean_data(df)\n",
    "df_cleaned[\"COST\"] /= 10000\n",
    "\n",
    "print(\"Cleaned data:\\n\")\n",
    "df_cleaned.info()"
   ]
  },
  {
   "cell_type": "code",
   "execution_count": 8,
   "metadata": {
    "colab": {
     "base_uri": "https://localhost:8080/",
     "height": 34
    },
    "colab_type": "code",
    "id": "o5XlLmSyU6so",
    "outputId": "f000734f-0ace-44bf-d44b-18a0b967cedc"
   },
   "outputs": [],
   "source": [
    "df_cleaned.to_csv(\"processed_data.csv\")"
   ]
  }
 ],
 "metadata": {
  "colab": {
   "collapsed_sections": [],
   "name": "machine_hack_restaurant_data_preparation.ipynb",
   "provenance": [],
   "version": "0.3.2"
  },
  "kernelspec": {
   "display_name": "Python 3",
   "language": "python",
   "name": "python3"
  },
  "language_info": {
   "codemirror_mode": {
    "name": "ipython",
    "version": 3
   },
   "file_extension": ".py",
   "mimetype": "text/x-python",
   "name": "python",
   "nbconvert_exporter": "python",
   "pygments_lexer": "ipython3",
   "version": "3.6.8"
  },
  "varInspector": {
   "cols": {
    "lenName": 16,
    "lenType": 16,
    "lenVar": 40
   },
   "kernels_config": {
    "python": {
     "delete_cmd_postfix": "",
     "delete_cmd_prefix": "del ",
     "library": "var_list.py",
     "varRefreshCmd": "print(var_dic_list())"
    },
    "r": {
     "delete_cmd_postfix": ") ",
     "delete_cmd_prefix": "rm(",
     "library": "var_list.r",
     "varRefreshCmd": "cat(var_dic_list()) "
    }
   },
   "types_to_exclude": [
    "module",
    "function",
    "builtin_function_or_method",
    "instance",
    "_Feature"
   ],
   "window_display": false
  }
 },
 "nbformat": 4,
 "nbformat_minor": 1
}
